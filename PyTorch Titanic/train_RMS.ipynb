{
 "cells": [
  {
   "cell_type": "markdown",
   "id": "d7276899",
   "metadata": {},
   "source": [
    "# RMSprop Optimizer\n",
    "\n",
    "After testing different values for each parameter, we identified the best configuration:\n",
    "\n",
    "- `learning_rate`: The best results were recorded between learning rate of 0.01.\n",
    "- `eps` and `alpha`: For optimal performance, the best combinations are `0.0001` with `0.3`, or `1e-08` with `0.6`.\n",
    "\n",
    "## Results\n",
    "\n",
    "After testing various parameters combinations, the RMSprop optimizer achieved a local maximum accuracy of `0.83` and `0.76` on kaggle."
   ]
  },
  {
   "cell_type": "code",
   "execution_count": 1,
   "id": "c2930c7c",
   "metadata": {},
   "outputs": [],
   "source": [
    "import pandas as pd\n",
    "import torch\n",
    "from torch import nn\n",
    "from torch.utils.data import Dataset, DataLoader"
   ]
  },
  {
   "cell_type": "code",
   "execution_count": 2,
   "id": "891c7f6b",
   "metadata": {},
   "outputs": [
    {
     "name": "stdout",
     "output_type": "stream",
     "text": [
      "Training data shape: torch.Size([784, 3])\n",
      "Training labels shape: torch.Size([784, 1])\n",
      "Test data shape: torch.Size([107, 3])\n",
      "Test labels shape: torch.Size([107, 1])\n",
      "Predict data shape: torch.Size([418, 3])\n",
      "Number of batches 25 of size 32\n",
      "Number of test batches 4 of size 32\n"
     ]
    }
   ],
   "source": [
    "class TitanicDataset(Dataset):\n",
    "    def __init__(self, data_file, labels_file):\n",
    "        self.data = pd.read_csv(data_file)\n",
    "        self.labels = pd.read_csv(labels_file)\n",
    "        self.data = torch.tensor(self.data.values, dtype=torch.float32)\n",
    "        self.labels = torch.tensor(self.labels.values, dtype=torch.float32)\n",
    "    \n",
    "    def __len__(self):\n",
    "        return len(self.data)\n",
    "    \n",
    "    def __getitem__(self, idx):\n",
    "        return self.data[idx], self.labels[idx]\n",
    "\n",
    "data_path = \"../Titanic_data/train_data.csv\"\n",
    "labels_path = \"../Titanic_data/train_data_labels.csv\"\n",
    "test_path = \"../Titanic_data/train_test.csv\"\n",
    "test_labels_path = \"../Titanic_data/train_test_labels.csv\"\n",
    "predict_path = \"../Titanic_data/processed_test_data.csv\"\n",
    "\n",
    "dataset = TitanicDataset(data_path, labels_path)\n",
    "testset = TitanicDataset(test_path, test_labels_path)\n",
    "predictset = TitanicDataset(predict_path, predict_path)\n",
    "print(f\"Training data shape: {dataset.data.shape}\")\n",
    "print(f\"Training labels shape: {dataset.labels.shape}\")\n",
    "print(f\"Test data shape: {testset.data.shape}\")\n",
    "print(f\"Test labels shape: {testset.labels.shape}\")\n",
    "print(f\"Predict data shape: {predictset.data.shape}\")\n",
    "\n",
    "data_loader = DataLoader(dataset, batch_size=32, shuffle=True)\n",
    "test_loader = DataLoader(testset, batch_size=32, shuffle=False)\n",
    "print(f\"Number of batches {len(data_loader)} of size {data_loader.batch_size}\")\n",
    "print(f\"Number of test batches {len(test_loader)} of size {test_loader.batch_size}\")"
   ]
  },
  {
   "cell_type": "code",
   "execution_count": 3,
   "id": "a9d1489e",
   "metadata": {},
   "outputs": [],
   "source": [
    "device = \"cpu\"\n",
    "\n",
    "class NeuralNetwork(nn.Module):\n",
    "    def __init__(self, input_size):\n",
    "        super().__init__()\n",
    "        self.linear_relu_stack = nn.Sequential(\n",
    "            nn.Linear(input_size, 150),\n",
    "            nn.ReLU(),\n",
    "            nn.Linear(150, 150),\n",
    "            nn.ReLU(),\n",
    "            nn.Linear(150, 150),\n",
    "            nn.ReLU(),\n",
    "            nn.Linear(150, 2)\n",
    "        )\n",
    "\n",
    "    def forward(self, x):\n",
    "        logits = self.linear_relu_stack(x)\n",
    "        return logits"
   ]
  },
  {
   "cell_type": "code",
   "execution_count": 4,
   "id": "a96a8959",
   "metadata": {},
   "outputs": [],
   "source": [
    "def train(dataloader, model, loss_fn, optimizer):\n",
    "    model.train()\n",
    "    for batch, (X, y) in enumerate(dataloader):\n",
    "        X, y = X.to(device), y.to(device)\n",
    "        y = y.squeeze().long()\n",
    "\n",
    "        # Compute prediction error\n",
    "        pred = model(X)\n",
    "        loss = loss_fn(pred, y)\n",
    "\n",
    "        # Backpropagation\n",
    "        loss.backward()\n",
    "        optimizer.step()\n",
    "        optimizer.zero_grad()\n",
    "\n",
    "def test(dataloader, model):\n",
    "    model.eval()\n",
    "    correct = 0\n",
    "    with torch.no_grad():\n",
    "        for X, y in dataloader:\n",
    "            X, y = X.to(device), y.to(device)\n",
    "            y = y.squeeze().long()\n",
    "            pred = model(X)\n",
    "            correct += (pred.argmax(1) == y).type(torch.float).sum().item()\n",
    "            \n",
    "    correct /= len(dataloader.dataset)\n",
    "    return correct"
   ]
  },
  {
   "cell_type": "code",
   "execution_count": 5,
   "id": "5e1c285f",
   "metadata": {},
   "outputs": [
    {
     "name": "stdout",
     "output_type": "stream",
     "text": [
      "Model accuracy: 0.813    Params: lr: 0.001, eps: 0.01, alpha: 0.3\n",
      "Model accuracy: 0.813    Params: lr: 0.001, eps: 0.01, alpha: 0.6\n",
      "Model accuracy: 0.813    Params: lr: 0.001, eps: 0.01, alpha: 0.8\n",
      "Model accuracy: 0.813    Params: lr: 0.001, eps: 0.01, alpha: 0.99\n",
      "Model accuracy: 0.813    Params: lr: 0.001, eps: 0.0001, alpha: 0.3\n",
      "Model accuracy: 0.822    Params: lr: 0.001, eps: 0.0001, alpha: 0.6\n",
      "Model accuracy: 0.822    Params: lr: 0.001, eps: 0.0001, alpha: 0.8\n",
      "Model accuracy: 0.813    Params: lr: 0.001, eps: 0.0001, alpha: 0.99\n",
      "Model accuracy: 0.813    Params: lr: 0.001, eps: 1e-06, alpha: 0.3\n",
      "Model accuracy: 0.822    Params: lr: 0.001, eps: 1e-06, alpha: 0.6\n",
      "Model accuracy: 0.822    Params: lr: 0.001, eps: 1e-06, alpha: 0.8\n",
      "Model accuracy: 0.822    Params: lr: 0.001, eps: 1e-06, alpha: 0.99\n",
      "Model accuracy: 0.813    Params: lr: 0.001, eps: 1e-08, alpha: 0.3\n",
      "Model accuracy: 0.822    Params: lr: 0.001, eps: 1e-08, alpha: 0.6\n",
      "Model accuracy: 0.822    Params: lr: 0.001, eps: 1e-08, alpha: 0.8\n",
      "Model accuracy: 0.822    Params: lr: 0.001, eps: 1e-08, alpha: 0.99\n",
      "Model accuracy: 0.822    Params: lr: 0.01, eps: 0.01, alpha: 0.3\n",
      "Model accuracy: 0.813    Params: lr: 0.01, eps: 0.01, alpha: 0.6\n",
      "Model accuracy: 0.813    Params: lr: 0.01, eps: 0.01, alpha: 0.8\n",
      "Model accuracy: 0.813    Params: lr: 0.01, eps: 0.01, alpha: 0.99\n",
      "Model accuracy: 0.832    Params: lr: 0.01, eps: 0.0001, alpha: 0.3\n",
      "Model accuracy: 0.822    Params: lr: 0.01, eps: 0.0001, alpha: 0.6\n",
      "Model accuracy: 0.813    Params: lr: 0.01, eps: 0.0001, alpha: 0.8\n",
      "Model accuracy: 0.813    Params: lr: 0.01, eps: 0.0001, alpha: 0.99\n",
      "Model accuracy: 0.822    Params: lr: 0.01, eps: 1e-06, alpha: 0.3\n",
      "Model accuracy: 0.822    Params: lr: 0.01, eps: 1e-06, alpha: 0.6\n",
      "Model accuracy: 0.822    Params: lr: 0.01, eps: 1e-06, alpha: 0.8\n",
      "Model accuracy: 0.813    Params: lr: 0.01, eps: 1e-06, alpha: 0.99\n",
      "Model accuracy: 0.813    Params: lr: 0.01, eps: 1e-08, alpha: 0.3\n",
      "Model accuracy: 0.832    Params: lr: 0.01, eps: 1e-08, alpha: 0.6\n",
      "Model accuracy: 0.822    Params: lr: 0.01, eps: 1e-08, alpha: 0.8\n",
      "Model accuracy: 0.822    Params: lr: 0.01, eps: 1e-08, alpha: 0.99\n",
      "Final max accuracy: 0.832    Params: {'lr': 0.01, 'eps': 0.0001, 'alpha': 0.3}\n"
     ]
    }
   ],
   "source": [
    "# train with multiple hyperparameters\n",
    "lr_ranges = [0.001, 0.01]\n",
    "alpha_ranges = [0.3, 0.6, 0.8, 0.99]\n",
    "eps_ranges = [0.01, 0.0001, 0.000001, 0.00000001]\n",
    "\n",
    "loss_fn = nn.CrossEntropyLoss()\n",
    "epochs = 300\n",
    "max_accuracy = 0\n",
    "params = {}\n",
    "\n",
    "for lr in lr_ranges:\n",
    "    for eps in eps_ranges:\n",
    "        for alpha in alpha_ranges:\n",
    "            model = NeuralNetwork(dataset.data.shape[1]).to(device)\n",
    "            optimizer = torch.optim.RMSprop(model.parameters(), lr=lr, alpha=alpha, eps=eps)\n",
    "\n",
    "            model_acc = 0\n",
    "\n",
    "            for t in range(epochs):\n",
    "                train(data_loader, model, loss_fn, optimizer)\n",
    "                model_acc = max(model_acc, test(test_loader, model))\n",
    "\n",
    "            if model_acc > max_accuracy:\n",
    "                max_accuracy = model_acc\n",
    "                params = {'lr': lr, 'eps': eps, 'alpha': alpha}\n",
    "            print(f\"Model accuracy: {model_acc:.3f}    Params: lr: {lr}, eps: {eps}, alpha: {alpha}\")\n",
    "\n",
    "print(f\"Final max accuracy: {max_accuracy:.3f}    Params: {params}\")"
   ]
  },
  {
   "cell_type": "code",
   "execution_count": 6,
   "id": "4d1eae40",
   "metadata": {},
   "outputs": [
    {
     "name": "stdout",
     "output_type": "stream",
     "text": [
      "Predictions saved\n"
     ]
    }
   ],
   "source": [
    "# train with the best hyperparameters\n",
    "model = NeuralNetwork(dataset.data.shape[1]).to(device)\n",
    "optimizer = torch.optim.RMSprop(model.parameters(), lr=params['lr'], alpha=params['alpha'], eps=params['eps'])\n",
    "for _ in range(epochs):\n",
    "    train(data_loader, model, loss_fn, optimizer)\n",
    "    test(test_loader, model)\n",
    "\n",
    "# save results\n",
    "model.eval()\n",
    "predictions = []\n",
    "\n",
    "with torch.no_grad():\n",
    "    for i in range(len(predictset)):\n",
    "        x, _ = predictset[i]  # Ignore the label\n",
    "        x = x.to(device)\n",
    "        pred = model(x)\n",
    "        predictions.append(pred.argmax().item())\n",
    "\n",
    "submission = pd.DataFrame({\n",
    "    \"PassengerId\": range(892, 892 + len(predictions)),  # PassengerId starts from 892\n",
    "    \"Survived\": predictions\n",
    "})\n",
    "submission.to_csv(\"Results_RMS.csv\", index=False)\n",
    "print(\"Predictions saved\")"
   ]
  }
 ],
 "metadata": {
  "kernelspec": {
   "display_name": "Python 3",
   "language": "python",
   "name": "python3"
  },
  "language_info": {
   "codemirror_mode": {
    "name": "ipython",
    "version": 3
   },
   "file_extension": ".py",
   "mimetype": "text/x-python",
   "name": "python",
   "nbconvert_exporter": "python",
   "pygments_lexer": "ipython3",
   "version": "3.12.4"
  }
 },
 "nbformat": 4,
 "nbformat_minor": 5
}
