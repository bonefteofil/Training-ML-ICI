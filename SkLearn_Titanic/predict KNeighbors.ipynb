{
 "cells": [
  {
   "cell_type": "markdown",
   "id": "e71d9756",
   "metadata": {},
   "source": [
    "## Score of KNeighbors Classifier on Kaggle is `0.73`"
   ]
  },
  {
   "cell_type": "code",
   "execution_count": 1,
   "id": "85678830",
   "metadata": {},
   "outputs": [],
   "source": [
    "import pandas as pd\n",
    "\n",
    "from sklearn.neighbors import KNeighborsClassifier"
   ]
  },
  {
   "cell_type": "code",
   "execution_count": 2,
   "id": "a279800e",
   "metadata": {},
   "outputs": [
    {
     "name": "stdout",
     "output_type": "stream",
     "text": [
      "Train data shape: (891, 3)\n",
      "Train data labels shape: (891, 1)\n",
      "Test data shape: (418, 3)\n"
     ]
    }
   ],
   "source": [
    "# load data\n",
    "train_data = pd.read_csv(\"data/processed_data.csv\")\n",
    "train_data_labels = pd.read_csv(\"data/processed_data_labels.csv\")\n",
    "test_data = pd.read_csv(\"data/processed_test_data.csv\")\n",
    "\n",
    "print(\"Train data shape:\", train_data.shape)\n",
    "print(\"Train data labels shape:\", train_data_labels.shape)\n",
    "print(\"Test data shape:\", test_data.shape)"
   ]
  },
  {
   "cell_type": "code",
   "execution_count": 3,
   "id": "38b0d7b8",
   "metadata": {},
   "outputs": [],
   "source": [
    "# convert data to 1D arrays\n",
    "train_labels = train_data_labels.values.ravel()"
   ]
  },
  {
   "cell_type": "code",
   "execution_count": 4,
   "id": "59866466",
   "metadata": {},
   "outputs": [],
   "source": [
    "# final train and save\n",
    "clf = KNeighborsClassifier(n_neighbors=2, n_jobs=5, weights='distance', leaf_size=10, p=2)\n",
    "clf.fit(train_data, train_labels)  # train\n",
    "test_predictions = clf.predict(test_data)  # test\n",
    "submission = pd.DataFrame({\n",
    "    \"PassengerId\": test_data.index + 892,\n",
    "    \"Survived\": test_predictions\n",
    "})\n",
    "submission.to_csv(\"results/results_KNeighbors.csv\", index=False)"
   ]
  }
 ],
 "metadata": {
  "kernelspec": {
   "display_name": "Python 3",
   "language": "python",
   "name": "python3"
  },
  "language_info": {
   "codemirror_mode": {
    "name": "ipython",
    "version": 3
   },
   "file_extension": ".py",
   "mimetype": "text/x-python",
   "name": "python",
   "nbconvert_exporter": "python",
   "pygments_lexer": "ipython3",
   "version": "3.12.4"
  }
 },
 "nbformat": 4,
 "nbformat_minor": 5
}
